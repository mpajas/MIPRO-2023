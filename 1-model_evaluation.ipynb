{
 "cells": [
  {
   "cell_type": "code",
   "execution_count": 1,
   "metadata": {
    "collapsed": true
   },
   "outputs": [],
   "source": [
    "from flair.datasets import ColumnCorpus\n",
    "from flair.data import Corpus\n",
    "from flair.models import SequenceTagger\n",
    "from flair.data import Sentence"
   ]
  },
  {
   "cell_type": "code",
   "execution_count": 2,
   "outputs": [
    {
     "name": "stdout",
     "output_type": "stream",
     "text": [
      "2023-03-27 11:04:29,822 Reading data from data\n",
      "2023-03-27 11:04:29,825 Train: data\\golden_train.conll\n",
      "2023-03-27 11:04:29,826 Dev: None\n",
      "2023-03-27 11:04:29,826 Test: data\\golden_test.conll\n",
      "Corpus: 2253 train + 250 dev + 441 test sentences\n"
     ]
    }
   ],
   "source": [
    "data_folder = \"data/\"\n",
    "\n",
    "columns = {0 : 'text', 1: \"ner\"}\n",
    "corpus: Corpus = ColumnCorpus(data_folder, columns,\n",
    "                              train_file = 'golden_train.conll',\n",
    "                              test_file = 'golden_test.conll',\n",
    "                              skip_first_line=False,\n",
    "                              )\n",
    "print(corpus)"
   ],
   "metadata": {
    "collapsed": false
   }
  },
  {
   "cell_type": "code",
   "execution_count": 3,
   "outputs": [
    {
     "name": "stderr",
     "output_type": "stream",
     "text": [
      "C:\\Users\\mpajas.DESKTOP-0MU8OSB\\Documents\\Bitbucket repos\\address-hub-ner-inference-backend\\venv_hera_backend\\lib\\site-packages\\huggingface_hub\\file_download.py:588: FutureWarning: `cached_download` is the legacy way to download files from the HF hub, please consider upgrading to `hf_hub_download`\n",
      "  warnings.warn(\n"
     ]
    },
    {
     "name": "stdout",
     "output_type": "stream",
     "text": [
      "2023-03-27 11:04:30,562 loading file C:\\Users\\mpajas.DESKTOP-0MU8OSB\\.flair\\models\\mipro-ner\\208a601d3eb6099cc9a2eb353a74960bf2baf1ab01b7493e0a20f148a5020e49.dec2dddca10be0e14f9236c6f47672fa1ae4ebf97d9379f1c4371b6a9381ce77\n",
      "2023-03-27 11:04:36,817 SequenceTagger predicts: Dictionary with 11 tags: O, S-PERSON, B-PERSON, E-PERSON, I-PERSON, S-ORG, B-ORG, E-ORG, I-ORG, <START>, <STOP>\n"
     ]
    }
   ],
   "source": [
    "tagger = SequenceTagger.load(\"TamedWicked/mipro-ner\")"
   ],
   "metadata": {
    "collapsed": false
   }
  },
  {
   "cell_type": "code",
   "execution_count": 4,
   "outputs": [
    {
     "name": "stderr",
     "output_type": "stream",
     "text": [
      "100%|██████████| 14/14 [00:01<00:00,  7.10it/s]"
     ]
    },
    {
     "name": "stdout",
     "output_type": "stream",
     "text": [
      "2023-03-27 11:04:39,410 Evaluating as a multi-label problem: False\n"
     ]
    },
    {
     "name": "stderr",
     "output_type": "stream",
     "text": [
      "\n"
     ]
    },
    {
     "name": "stdout",
     "output_type": "stream",
     "text": [
      "\n",
      "Results:\n",
      "- F-score (micro) 0.9527\n",
      "- F-score (macro) 0.9356\n",
      "- Accuracy 0.9132\n",
      "\n",
      "By class:\n",
      "              precision    recall  f1-score   support\n",
      "\n",
      "      PERSON     0.9669    0.9749    0.9709       359\n",
      "         ORG     0.8968    0.9040    0.9004       125\n",
      "\n",
      "   micro avg     0.9488    0.9566    0.9527       484\n",
      "   macro avg     0.9318    0.9395    0.9356       484\n",
      "weighted avg     0.9488    0.9566    0.9527       484\n",
      "\n"
     ]
    }
   ],
   "source": [
    "result = tagger.evaluate(corpus.test, gold_label_type=\"ner\")#, out_path=\"test_results.txt\")\n",
    "print(result.detailed_results)"
   ],
   "metadata": {
    "collapsed": false
   }
  },
  {
   "cell_type": "code",
   "execution_count": 5,
   "outputs": [
    {
     "name": "stdout",
     "output_type": "stream",
     "text": [
      "Sentence: \"Matija Pajas BISS doo\" → [\"Matija Pajas\"/PERSON, \"BISS doo\"/ORG]\n"
     ]
    }
   ],
   "source": [
    "sentence = Sentence(\"Matija Pajas BISS doo\")\n",
    "tagger.predict(sentence)\n",
    "print(sentence.to_tagged_string())"
   ],
   "metadata": {
    "collapsed": false
   }
  }
 ],
 "metadata": {
  "kernelspec": {
   "display_name": "Python 3",
   "language": "python",
   "name": "python3"
  },
  "language_info": {
   "codemirror_mode": {
    "name": "ipython",
    "version": 2
   },
   "file_extension": ".py",
   "mimetype": "text/x-python",
   "name": "python",
   "nbconvert_exporter": "python",
   "pygments_lexer": "ipython2",
   "version": "2.7.6"
  }
 },
 "nbformat": 4,
 "nbformat_minor": 0
}
